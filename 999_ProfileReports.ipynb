{
 "cells": [
  {
   "cell_type": "markdown",
   "id": "2b5f4e35",
   "metadata": {},
   "source": [
    "# Profile Reports\n",
    "**Description**: This script generates the the Profile Pandas Report for each dataset. **Note**, when running the notebook, do not run the script to generate profile reports for all datasets at once. Rather generate a profile report for each dataset individually to save memory.\n",
    "\n",
    "**Author**: Marang Mutloatse\n",
    "\n",
    "**Version**: 0.0.1\n",
    "\n",
    "**Status**: Development"
   ]
  },
  {
   "cell_type": "markdown",
   "id": "895f49d9",
   "metadata": {},
   "source": [
    "## Import Libraries"
   ]
  },
  {
   "cell_type": "code",
   "execution_count": 1,
   "id": "bf57fcd1",
   "metadata": {},
   "outputs": [],
   "source": [
    "from pandas_profiling import ProfileReport\n",
    "import pandas as pd\n",
    "import yaml\n",
    "import os\n",
    "import warnings\n",
    "warnings.simplefilter(action='ignore', category=FutureWarning)"
   ]
  },
  {
   "cell_type": "markdown",
   "id": "1706d892",
   "metadata": {},
   "source": [
    "## Working Functions"
   ]
  },
  {
   "cell_type": "code",
   "execution_count": 2,
   "id": "fde73772",
   "metadata": {},
   "outputs": [],
   "source": [
    "def load_excel_sheet(path: str):\n",
    "    if path is not None:\n",
    "        try:\n",
    "            xls = pd.ExcelFile(path)\n",
    "            df = xls.parse(skiprows=0)\n",
    "            return df\n",
    "        except Exception as e:\n",
    "            print(f\"Exception on loading excel spreadsheet with error: {e}\")"
   ]
  },
  {
   "cell_type": "markdown",
   "id": "e2de6c7d",
   "metadata": {},
   "source": [
    "## Loading Data"
   ]
  },
  {
   "cell_type": "code",
   "execution_count": 3,
   "id": "df2e5f5d",
   "metadata": {},
   "outputs": [],
   "source": [
    "# Get parent directory\n",
    "user_dev_path = os.path.dirname(os.getcwd())\n",
    "\n",
    "# Load config path\n",
    "try: \n",
    "    with open (user_dev_path + '/' + 'config_LTFU.yaml', 'r') as file:\n",
    "        config = yaml.safe_load(file)\n",
    "except Exception as e:\n",
    "    print(f'Error reading the config file, {e}')"
   ]
  },
  {
   "cell_type": "markdown",
   "id": "3301477f",
   "metadata": {},
   "source": [
    "## Get Parameters from Config file"
   ]
  },
  {
   "cell_type": "code",
   "execution_count": 4,
   "id": "68f4236c",
   "metadata": {},
   "outputs": [],
   "source": [
    "# Get root path parameter\n",
    "input_root = config['rise_files']['raw_data_path']\n",
    "\n",
    "# Get filenames\n",
    "patient_file = config['rise_files']['raw_patient_file']\n",
    "lab_file = config['rise_files']['raw_lab_file']\n",
    "clinic_file = config['rise_files']['raw_clinic_file']\n",
    "\n",
    "pharmacy_adamawa_file = config['rise_files']['raw_pharmacy_adamawa_file']\n",
    "pharmacy_akwa_ibom_file = config['rise_files']['raw_pharmacy_akwa_ibom_file']\n",
    "pharmacy_cross_river_file = config['rise_files']['raw_pharmacy_cross_river_file']\n",
    "pharmacy_niger_file = config['rise_files']['raw_pharmacy_niger_file']\n",
    "\n",
    "eac_file = config['rise_files']['raw_eac_file']\n",
    "otz_file = config['rise_files']['raw_otz_file']\n",
    "\n",
    "# Dataset Paths\n",
    "patient_input = input_root + patient_file\n",
    "adamawa_input = input_root + pharmacy_adamawa_file\n",
    "akwa_ibom_input = input_root + pharmacy_akwa_ibom_file\n",
    "cross_river_input = input_root + pharmacy_cross_river_file\n",
    "niger_input = input_root + pharmacy_niger_file\n",
    "eac_input = input_root + eac_file\n",
    "otz_input = input_root + otz_file\n",
    "lab_input = input_root + lab_file\n",
    "clinic_input = input_root + clinic_file"
   ]
  },
  {
   "cell_type": "code",
   "execution_count": 5,
   "id": "79e9d26f",
   "metadata": {},
   "outputs": [
    {
     "name": "stdout",
     "output_type": "stream",
     "text": [
      "Patient data path is: /data/rise_data/PatientDemographicsData.xlsx\n",
      "\n",
      "Lab data path is: /data/rise_data/All LaboratoryData_Flat File.csv\n",
      "\n",
      "Clinic data path is: /data/rise_data/ClinicData.xlsx\n",
      "\n",
      "EAC data path is: /data/rise_data/EacData.xlsx\n",
      "\n",
      "OTZ data path is: /data/rise_data/OtzData.xlsx\n",
      "\n",
      "Adamawa pharmacy data path is: /data/rise_data/PharmacyData_Adamawa.xlsx\n",
      "\n",
      "Akwa Ibom pharmacy data path is: /data/rise_data/PharmacyData_Akwa Ibom.xlsx\n",
      "\n",
      "Cross River pharmacy data path is: /data/rise_data/PharmacyData_Cross River.xlsx\n",
      "\n",
      "Niger data path is: /data/rise_data/PharmacyData_Niger.csv\n"
     ]
    }
   ],
   "source": [
    "# Print paths\n",
    "print(f\"Patient data path is: {patient_input}\\n\")\n",
    "print(f\"Lab data path is: {lab_input}\\n\")\n",
    "print(f\"Clinic data path is: {clinic_input}\\n\")\n",
    "print(f\"EAC data path is: {eac_input}\\n\")\n",
    "print(f\"OTZ data path is: {otz_input}\\n\")\n",
    "print(f\"Adamawa pharmacy data path is: {adamawa_input}\\n\")\n",
    "print(f\"Akwa Ibom pharmacy data path is: {akwa_ibom_input}\\n\")\n",
    "print(f\"Cross River pharmacy data path is: {cross_river_input}\\n\")\n",
    "print(f\"Niger data path is: {niger_input}\")"
   ]
  },
  {
   "cell_type": "markdown",
   "id": "a2bb6dd9",
   "metadata": {},
   "source": [
    "## Loading Data"
   ]
  },
  {
   "cell_type": "code",
   "execution_count": 6,
   "id": "c3d4a97b",
   "metadata": {},
   "outputs": [],
   "source": [
    "# Uncomment each dataframe after generating plot\n",
    "df = load_excel_sheet(patient_input)\n",
    "\n",
    "#df = load_excel_sheet(eac_input)\n",
    "# df = load_excel_sheet(otz_input)\n",
    "# df = load_excel_sheet(adamawa_input)\n",
    "# df = load_excel_sheet(akwa_ibom_input)\n",
    "\n",
    "# Load CSV files - uncomment out per dataset dataframe\n",
    "\n",
    "# df = pd.read_csv(lab_input)\n",
    "# df = pd.read_csv(niger_input)"
   ]
  },
  {
   "cell_type": "markdown",
   "id": "e97a1212",
   "metadata": {},
   "source": [
    "# Create Profile Report"
   ]
  },
  {
   "cell_type": "code",
   "execution_count": 11,
   "id": "4cf9c6de",
   "metadata": {},
   "outputs": [
    {
     "data": {
      "application/vnd.jupyter.widget-view+json": {
       "model_id": "cf7305fa433941c5acfe74bb4329abc1",
       "version_major": 2,
       "version_minor": 0
      },
      "text/plain": [
       "Summarize dataset:   0%|          | 0/70 [00:00<?, ?it/s]"
      ]
     },
     "metadata": {},
     "output_type": "display_data"
    },
    {
     "name": "stderr",
     "output_type": "stream",
     "text": [
      "/anaconda/envs/py38_default/lib/python3.8/site-packages/scipy/stats/stats.py:4594: RuntimeWarning: overflow encountered in long_scalars\n",
      "  (2 * xtie * ytie) / m + x0 * y0 / (9 * m * (size - 2)))\n",
      "/anaconda/envs/py38_default/lib/python3.8/site-packages/scipy/stats/stats.py:4596: RuntimeWarning: invalid value encountered in sqrt\n",
      "  np.sqrt(var) / np.sqrt(2)))\n",
      "/anaconda/envs/py38_default/lib/python3.8/site-packages/pandas_profiling/model/correlations.py:146: UserWarning: There was an attempt to calculate the cramers correlation, but this failed.\n",
      "To hide this warning, disable the calculation\n",
      "(using `df.profile_report(correlations={\"cramers\": {\"calculate\": False}})`\n",
      "If this is problematic for your use case, please report this as an issue:\n",
      "https://github.com/pandas-profiling/pandas-profiling/issues\n",
      "(include the error message: 'No data; `observed` has size 0.')\n",
      "  warnings.warn(\n"
     ]
    },
    {
     "data": {
      "application/vnd.jupyter.widget-view+json": {
       "model_id": "ff8b56ccb8d34caca540f8a0b33b8440",
       "version_major": 2,
       "version_minor": 0
      },
      "text/plain": [
       "Generate report structure:   0%|          | 0/1 [00:00<?, ?it/s]"
      ]
     },
     "metadata": {},
     "output_type": "display_data"
    },
    {
     "name": "stderr",
     "output_type": "stream",
     "text": [
      "/anaconda/envs/py38_default/lib/python3.8/site-packages/matplotlib/textpath.py:74: RuntimeWarning: Glyph 6 missing from current font.\n",
      "  font.set_text(s, 0.0, flags=LOAD_NO_HINTING)\n",
      "/anaconda/envs/py38_default/lib/python3.8/site-packages/matplotlib/backends/backend_agg.py:238: RuntimeWarning: Glyph 6 missing from current font.\n",
      "  font.set_text(s, 0.0, flags=flags)\n",
      "/anaconda/envs/py38_default/lib/python3.8/site-packages/matplotlib/backends/backend_agg.py:201: RuntimeWarning: Glyph 6 missing from current font.\n",
      "  font.set_text(s, 0, flags=flags)\n"
     ]
    },
    {
     "data": {
      "application/vnd.jupyter.widget-view+json": {
       "model_id": "ad453ba8eeea4a6c87066d388538f05f",
       "version_major": 2,
       "version_minor": 0
      },
      "text/plain": [
       "Render HTML:   0%|          | 0/1 [00:00<?, ?it/s]"
      ]
     },
     "metadata": {},
     "output_type": "display_data"
    },
    {
     "data": {
      "application/vnd.jupyter.widget-view+json": {
       "model_id": "8d55d644d4ae432782bbe7c4f44375f6",
       "version_major": 2,
       "version_minor": 0
      },
      "text/plain": [
       "Export report to file:   0%|          | 0/1 [00:00<?, ?it/s]"
      ]
     },
     "metadata": {},
     "output_type": "display_data"
    }
   ],
   "source": [
    "prof = ProfileReport(df)\n",
    "\n",
    "prof.to_file(output_file='PatientDemographics_Summary.html')\n",
    "\n",
    "# prof.to_file(output_file='LaboratorySummary.html')\n",
    "# prof.to_file(output_file='EAC_Summary.html')\n",
    "# prof.to_file(output_file='OTZ_Summary.html')\n",
    "# prof.to_file(output_file='Pharmacy_adamawa_Summary.html')\n",
    "# prof.to_file(output_file='Pharmacy_Cross_River_Summary.html')\n",
    "# prof.to_file(output_file='Pharmacy_NIger_Summary.html')\n",
    "# # very large\n",
    "# prof.to_file(output_file='Pharmacy_Akwa_Ibom_Summary.html')"
   ]
  }
 ],
 "metadata": {
  "kernelspec": {
   "display_name": "Python 3",
   "language": "python",
   "name": "python3"
  },
  "language_info": {
   "codemirror_mode": {
    "name": "ipython",
    "version": 3
   },
   "file_extension": ".py",
   "mimetype": "text/x-python",
   "name": "python",
   "nbconvert_exporter": "python",
   "pygments_lexer": "ipython3",
   "version": "3.8.10"
  },
  "toc": {
   "base_numbering": 1,
   "nav_menu": {},
   "number_sections": true,
   "sideBar": true,
   "skip_h1_title": false,
   "title_cell": "Table of Contents",
   "title_sidebar": "Contents",
   "toc_cell": false,
   "toc_position": {},
   "toc_section_display": true,
   "toc_window_display": false
  }
 },
 "nbformat": 4,
 "nbformat_minor": 5
}
