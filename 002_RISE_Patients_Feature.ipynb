{
 "cells": [
  {
   "cell_type": "markdown",
   "id": "7eaf159d",
   "metadata": {},
   "source": [
    "# Merging Datasets\n",
    "\n",
    "**Author:** Marang Mutloatse\n",
    "\n",
    "**Description:** This script prepares the Patient demographics dataset for unified view creation.\n",
    "\n",
    "**Version:** 0.0.1\n",
    "\n",
    "**Status:** Development"
   ]
  },
  {
   "cell_type": "code",
   "execution_count": 1,
   "id": "f4457047",
   "metadata": {},
   "outputs": [],
   "source": [
    "import pandas as pd\n",
    "import yaml\n",
    "import datetime as dt\n",
    "import warnings\n",
    "import seaborn as sns\n",
    "import numpy as np\n",
    "import matplotlib.pyplot as plt\n",
    "import math\n",
    "import glob\n",
    "import os\n",
    "from sklearn.impute import SimpleImputer\n",
    "from datetime import timedelta, date\n",
    "plt.style.use('fivethirtyeight')\n",
    "warnings.simplefilter(action='ignore', category=FutureWarning)\n",
    "%matplotlib inline"
   ]
  },
  {
   "cell_type": "markdown",
   "id": "364cb647",
   "metadata": {},
   "source": [
    "# Working Functions"
   ]
  },
  {
   "cell_type": "code",
   "execution_count": 2,
   "id": "80efa6f0",
   "metadata": {},
   "outputs": [],
   "source": [
    "def load_excel_sheet(path: str):\n",
    "    if path is not None:\n",
    "        try:\n",
    "            xls = pd.ExcelFile(path)\n",
    "            df = xls.parse(skiprows=0)\n",
    "            return df\n",
    "        except Exception as e:\n",
    "            print(f\"Exception on loading excel spreadsheet with error: {e}\")\n",
    "            \n",
    "def one_hot_encode_col(df,dummies_col:str,prefix_entry:str):\n",
    "    if df is not None:\n",
    "        try:\n",
    "            dummies = pd.get_dummies(df[dummies_col], prefix=prefix_entry,drop_first=False)\n",
    "            df = df.join(dummies)\n",
    "            return df\n",
    "        except Exception as e:\n",
    "            print(f\"Exception on one hot encoding with error: {e}\")"
   ]
  },
  {
   "cell_type": "markdown",
   "id": "b1429630",
   "metadata": {},
   "source": [
    "# Loading Data"
   ]
  },
  {
   "cell_type": "code",
   "execution_count": 3,
   "id": "441b495f",
   "metadata": {},
   "outputs": [],
   "source": [
    "user_dev_path = os.path.dirname(os.getcwd())\n",
    "try: \n",
    "    with open (user_dev_path + '/' + 'config_LTFU.yaml', 'r') as file:\n",
    "        config = yaml.safe_load(file)\n",
    "except Exception as e:\n",
    "    print(f'Error reading the config file, {e}')"
   ]
  },
  {
   "cell_type": "code",
   "execution_count": 4,
   "id": "5b6d4c38",
   "metadata": {},
   "outputs": [
    {
     "name": "stdout",
     "output_type": "stream",
     "text": [
      "/data/rise_data/PatientDemographicsData.xlsx\n"
     ]
    }
   ],
   "source": [
    "input_root = config['rise_files']['raw_data_path']\n",
    "patient_file = config['rise_files']['raw_patient_file']\n",
    "patient_input = input_root + patient_file\n",
    "print(patient_input)"
   ]
  },
  {
   "cell_type": "code",
   "execution_count": 5,
   "id": "a85fa06a",
   "metadata": {},
   "outputs": [],
   "source": [
    "df = load_excel_sheet(patient_input)"
   ]
  },
  {
   "cell_type": "markdown",
   "id": "1c74c356",
   "metadata": {},
   "source": [
    "## Date Time Conversion"
   ]
  },
  {
   "cell_type": "code",
   "execution_count": 6,
   "id": "2d53c000",
   "metadata": {},
   "outputs": [],
   "source": [
    "# list datetime columns\n",
    "DATE_COLS = [\n",
    "    \"DATE_BIRTH\",\n",
    "    \"DATE_STARTED\",\n",
    "    \"DATE_REGISTRATION\",\n",
    "    \"DATE_CONFIRMED_HIV\",\n",
    "    \"DATE_LAST_REFILL\",\n",
    "    \"DATE_NEXT_REFILL\",\n",
    "    \"DATE_CURRENT_STATUS\",\n",
    "    \"DATE_LAST_CLINIC\",\n",
    "    \"DATE_NEXT_CLINIC\",\n",
    "    \"DATE_LAST_CD4\",\n",
    "    \"DATE_LAST_VIRAL_LOAD\",\n",
    "    \"VIRAL_LOAD_DUE_DATE\",\n",
    "    \"DATE_ENROLLED_PMTCT\"\n",
    "]\n",
    "# Convert to datetime format\n",
    "df.loc[:,DATE_COLS] = df.loc[:,DATE_COLS].apply(pd.to_datetime,errors = \"coerce\")"
   ]
  },
  {
   "cell_type": "markdown",
   "id": "ecdb2499",
   "metadata": {},
   "source": [
    "## Data Preparation"
   ]
  },
  {
   "cell_type": "markdown",
   "id": "f55cc1ab",
   "metadata": {},
   "source": [
    "### Age Prep"
   ]
  },
  {
   "cell_type": "code",
   "execution_count": 7,
   "id": "d4674bad",
   "metadata": {},
   "outputs": [],
   "source": [
    "# Filter for Correct\n",
    "conditions = [(df['age_unit'] =='month(s)'),(df['age_unit'] == 'day(s)'),(df['age_unit'] == 'year(s)')]\n",
    "values = [(df['AGE']/12),(df['AGE']/365),df['AGE']]\n",
    "df['EF_CURRENT_AGE'] = np.select(conditions,values)"
   ]
  },
  {
   "cell_type": "markdown",
   "id": "f894d05a",
   "metadata": {},
   "source": [
    "### Date of Birth Prep"
   ]
  },
  {
   "cell_type": "code",
   "execution_count": 8,
   "id": "a01ddf13",
   "metadata": {},
   "outputs": [],
   "source": [
    "df[\"EF_CURRENT_AGE\"] = df[\"EF_CURRENT_AGE\"].astype(int)\n",
    "df[\"EF_CURRENT_AGE\"] = df[\"EF_CURRENT_AGE\"].astype(str)\n",
    "# remove erroneous digits before age\n",
    "df[\"EF_CURRENT_AGE\"] = df[\"EF_CURRENT_AGE\"].str.replace(r'^\\d(\\d{2})$', r'\\1')\n",
    "df[\"EF_CURRENT_AGE\"] = df[\"EF_CURRENT_AGE\"].astype(int)"
   ]
  },
  {
   "cell_type": "code",
   "execution_count": 9,
   "id": "db191be5",
   "metadata": {},
   "outputs": [],
   "source": [
    "# Fill empty DOB with approximate values\n",
    "last_updated_date = pd.to_datetime('2021-05-31')\n",
    "\n",
    "# Filter Outliers\n",
    "df = df[df['EF_CURRENT_AGE'] < 120]\n",
    "\n",
    "# Approximate Date of Birth\n",
    "df['DATE_BIRTH'] = df['DATE_BIRTH'].combine_first(\n",
    "    df['EF_CURRENT_AGE'].transform(lambda x: last_updated_date - pd.DateOffset(years=x))\n",
    ")"
   ]
  },
  {
   "cell_type": "markdown",
   "id": "c96eec39",
   "metadata": {},
   "source": [
    "### Age and Gender Check"
   ]
  },
  {
   "cell_type": "code",
   "execution_count": 10,
   "id": "86fa1ada",
   "metadata": {},
   "outputs": [
    {
     "data": {
      "text/plain": [
       "Text(0.5, 1.0, 'Age Distribution')"
      ]
     },
     "execution_count": 10,
     "metadata": {},
     "output_type": "execute_result"
    },
    {
     "data": {
      "image/png": "[encoded data removed]",
      "text/plain": [
       "<Figure size 432x288 with 1 Axes>"
      ]
     },
     "metadata": {
      "needs_background": "light"
     },
     "output_type": "display_data"
    }
   ],
   "source": [
    "df_AGE =  df.query(\"EF_CURRENT_AGE < 100\")\n",
    "ax_age = sns.histplot(data=df_AGE, x=\"EF_CURRENT_AGE\", binwidth=10)\n",
    "ax_age.set(xlabel='Age', ylabel='Number of Patients')\n",
    "ax_age.set_title(\"Age Distribution\")"
   ]
  },
  {
   "cell_type": "code",
   "execution_count": 11,
   "id": "a20f312d",
   "metadata": {},
   "outputs": [
    {
     "data": {
      "text/plain": [
       "Text(0.5, 1.0, 'Number of Patients: By Gender')"
      ]
     },
     "execution_count": 11,
     "metadata": {},
     "output_type": "execute_result"
    },
    {
     "data": {
      "image/png": "[encoded data removed]",
      "text/plain": [
       "<Figure size 720x432 with 1 Axes>"
      ]
     },
     "metadata": {},
     "output_type": "display_data"
    }
   ],
   "source": [
    "df_pie = df.groupby(\"GENDER\")[\"PATIENT_ID\"].count()\n",
    "pie, ax = plt.subplots(figsize=[10,6])\n",
    "labels = df_pie.keys()\n",
    "plt.pie(x=df_pie, autopct=\"%.1f%%\", labels=labels, pctdistance=0.5)\n",
    "plt.title(\"Number of Patients: By Gender\", fontsize=14)"
   ]
  },
  {
   "cell_type": "markdown",
   "id": "abe09771",
   "metadata": {},
   "source": [
    "### Data Cleaning"
   ]
  },
  {
   "cell_type": "code",
   "execution_count": 12,
   "id": "c5bad8fe",
   "metadata": {},
   "outputs": [],
   "source": [
    "# rename state residence columns\n",
    "df = df.rename(columns={'STATE':'EF_STATE_RESIDENCE'})\n",
    "\n",
    "df.columns = df.columns.str.upper()\n",
    "df = df.rename(columns={'FACILITY NAME': 'FACILITY_NAME','LGA': 'EF_LGA_RESIDENCE'})"
   ]
  },
  {
   "cell_type": "code",
   "execution_count": 13,
   "id": "0b2eb0f5",
   "metadata": {},
   "outputs": [],
   "source": [
    "standardized_col = [\n",
    "    \"MARITAL_STATUS\",\n",
    "    \"OCCUPATION\",\n",
    "    \"EDUCATION\",\n",
    "    \"ENTRY_POINT\",\n",
    "    \"STATUS_REGISTRATION\",\n",
    "    \"ENROLLMENT_SETTING\",\n",
    "    \"CURRENT_STATUS\",\n",
    "    \"CAUSE_DEATH\",\n",
    "    \"WARD\",\n",
    "    \"TB_STATUS\",\n",
    "    \"EF_STATE_RESIDENCE\",\n",
    "    \"EF_LGA_RESIDENCE\",\n",
    "]"
   ]
  },
  {
   "cell_type": "code",
   "execution_count": 14,
   "id": "3c972b76",
   "metadata": {},
   "outputs": [],
   "source": [
    "# Grouping entries by first lowering, then capitalizng all word\n",
    "for col in standardized_col:\n",
    "    df[col] = df[col].str.title()"
   ]
  },
  {
   "cell_type": "code",
   "execution_count": 15,
   "id": "d9c70845",
   "metadata": {},
   "outputs": [],
   "source": [
    "education_dict = {\n",
    "    \"None\": \"None\",\n",
    "    \"Junior Secondary\": \"Junior Secondary\",\n",
    "    \"Senior Secondary\": \"Senior Secondary\",\n",
    "    \"Post Secondary\": \"Post Secondary\",\n",
    "    \"Quranic\":\"Quranic\",\n",
    "    \"Quranic Education\": \"Quranic\",\n",
    "    \"Quranic Education,Quranic Education\": \"Quranic\",\n",
    "    \"Senior Secondary,Senior Secondary\": \"Senior Secondary\",\n",
    "    \"Post Secondary,Post Secondary\": \"Post Secondary\",\n",
    "}\n",
    "\n",
    "marital_status_dict = {\n",
    "    \"Married\": \"Married\",\n",
    "    \"Single\": \"Single\",\n",
    "    \"Widowed\": \"Widowed\",\n",
    "    \"Divorced\": \"Divorced\",\n",
    "    \"Separated\": \"Separated\",\n",
    "    \"Seperated\": \"Separated\",\n",
    "    \"Windowed\": \"Widowed\",\n",
    "}\n",
    "\n",
    "enrollment_setting_dict = {\n",
    "    \"Facility\":\"Facility\",\n",
    "    \"Community\":\"Community\",\n",
    "    \"Community Based Organisation\": \"Community\",\n",
    "    \"Clinical Platforms (Community Pharmacy)\":\"Community\",\n",
    "    \"Clinical Platforms (Chemists/Pmvs/Dispensary)\":\"Clinical Platforms\",\n",
    "    \"Clinical Platforms (Phcs/Private Clinics/Nursing Homes)\":\"Clinical Platforms\",\n",
    "    \"Clinical Platforms (Laboratories)\":\"Clinical Platforms\",\n",
    "    \"Clinical Platforms (Tbas)\":\"Clinical Platforms\",\n",
    "}\n",
    "\n",
    "last_clinic_stage_dict = {\n",
    "    \"Stage I\":\"Stage I\",\n",
    "    \"Stage II\":\"Stage II\",\n",
    "    \"Stage III\":\"Stage III\",\n",
    "    \"Stage II?\":\"Stage II\",\n",
    "    \"Stage IIt\":\"Stage III\",\n",
    "    \"Stage IV\": \"Stage IV\",   \n",
    "}\n",
    "\n",
    "status_registration_dict = {\n",
    "    \"Hiv+ Non Art\":\"Hiv+ Non Art\",\n",
    "    \"Art Transfer In\":\"Art Transfer In\",\n",
    "    \"Pre-Art Transfer In\":\"Pre-Art Transfer In\",\n",
    "    \"Hiv Exposed Status Unknown\":\"Hiv Exposed Status Unknown\",\n",
    "    \"Hiv Exposed Infant Status Unknown\":\"Hiv Exposed Status Unknown\",\n",
    "    \"Art Start - External\":\"Art Start - External\",\n",
    "    \"Hiv Negative\":\"Hiv Negative\",\n",
    "    \"Hiv Exposed Infant Status Negative\":\"Hiv Negative\",\n",
    "}\n",
    "\n",
    "entry_point_dict = {\n",
    "    \"Hct\":\"Hct\",\n",
    "    \"Outreach\":\"Outreach\",\n",
    "    \"Outreaches\":\"Outreach\",\n",
    "    \"In-Patient\":\"In Patient\",\n",
    "    \"In Patients\":\"In Patient\",\n",
    "    \"Opd\":\"Opd\",\n",
    "    \"Pmtct\":\"Pmtct\",\n",
    "    \"Anc/Pmtct\":\"Pmtct\",\n",
    "    \"Cbo\":\"Cbo\",\n",
    "    \"Others\":\"Others\",\n",
    "    \"Transfer-In\":\"Transfer-In\",\n",
    "    \"Tb Dots\":\"Others\",\n",
    "    \"Sti Clinic\":\"Others\",\n",
    "}\n",
    "# tb_status_dict = {\"No Sign Or Symptoms Of Tb\":\"No Sign Or Symptoms Of Tb\",\n",
    "#                  \"No Signs Or Symptoms Of Tb\":\"No Sign Or Symptoms Of Tb\",\n",
    "#                  \"Currently On Inh Prophylaxis\":\"Currently On Inh Prophylaxis\",\n",
    "#                  \"Currently On Inh Prophylaxis,Currently On Inh Prophylaxis\": \"Currently On Inh Prophylaxis\",\n",
    "#                  }"
   ]
  },
  {
   "cell_type": "code",
   "execution_count": 16,
   "id": "003f92a2",
   "metadata": {},
   "outputs": [],
   "source": [
    "# MAPPING CLEANED CATEGORICAL Variables\n",
    "df['EDUCATION'] = df['EDUCATION'].map(education_dict)\n",
    "df['MARITAL_STATUS'] = df['MARITAL_STATUS'].map(marital_status_dict)\n",
    "df['ENROLLMENT_SETTING'] = df['ENROLLMENT_SETTING'].map(enrollment_setting_dict)\n",
    "df['LAST_CLINIC_STAGE'] = df['LAST_CLINIC_STAGE'].map(last_clinic_stage_dict)\n",
    "df['STATUS_REGISTRATION'] = df['STATUS_REGISTRATION'].map(status_registration_dict)\n",
    "df['ENTRY_POINT'] = df['ENTRY_POINT'].map(entry_point_dict)"
   ]
  },
  {
   "cell_type": "markdown",
   "id": "66f10f27",
   "metadata": {},
   "source": [
    "### Dealing with Missing Values"
   ]
  },
  {
   "cell_type": "code",
   "execution_count": 17,
   "id": "e30f6368",
   "metadata": {},
   "outputs": [],
   "source": [
    "# Imputing mode for columns\n",
    "imputer = SimpleImputer(missing_values=np.NaN,strategy='most_frequent')\n",
    "\n",
    "df[\"EF_STATE_RESIDENCE\"] = df.groupby([\"STATE\", \"L.G.A\", \"FACILITY_NAME\"], sort=False)[\n",
    "    \"EF_STATE_RESIDENCE\"\n",
    "].apply(lambda x: x.fillna(x.mode().iloc[0]))\n",
    "\n",
    "df[\"EF_LGA_RESIDENCE\"] = df.groupby([\"STATE\", \"L.G.A\", \"FACILITY_NAME\"], sort=False)[\n",
    "    \"EF_LGA_RESIDENCE\"\n",
    "].apply(lambda x: x.fillna(x.mode().iloc[0]))\n",
    "\n",
    "df[\"ENROLLMENT_SETTING\"] = df.groupby(\n",
    "    [\"STATE\",\"L.G.A\",\"FACILITY_NAME\"], sort=False)[\"ENROLLMENT_SETTING\"].apply(lambda x: x.fillna(x.mode().iloc[0]))\n",
    "\n",
    "df[\"ENROLLED_OVC\"] = df[\"ENROLLED_OVC\"].fillna(0.0)\n",
    "df[\"BIOMETRIC\"] = df[\"BIOMETRIC\"].fillna(0.0)\n",
    "df[\"STATUS_REGISTRATION\"] = pd.DataFrame(\n",
    "    imputer.fit_transform(df[[\"STATUS_REGISTRATION\"]]))\n",
    "df[\"CURRENT_STATUS\"] = pd.DataFrame(imputer.fit_transform(df[[\"CURRENT_STATUS\"]]))\n",
    "df[\"LAST_CLINIC_STAGE\"] = df.groupby([\"CURRENT_STATUS\"], sort=False)[\n",
    "    \"LAST_CLINIC_STAGE\"\n",
    "].apply(lambda x: x.fillna(x.mode().iloc[0]))\n",
    "\n",
    "df[\"MARITAL_STATUS\"] = df[\"MARITAL_STATUS\"].fillna(\"Unknown\")\n",
    "df[\"OCCUPATION\"] = df[\"OCCUPATION\"].fillna(\"Unknown\")\n",
    "df[\"EDUCATION\"] = df[\"EDUCATION\"].fillna(\"Unknown\")\n",
    "df[\"ENTRY_POINT\"] = df[\"ENTRY_POINT\"].fillna(\"Unspecified\")\n",
    "df[\"RECENCY_TESTING\"] = df[\"RECENCY_TESTING\"].fillna(\"Unspecified\")"
   ]
  },
  {
   "cell_type": "markdown",
   "id": "e377cda4",
   "metadata": {},
   "source": [
    "## Categorical Encoding"
   ]
  },
  {
   "cell_type": "markdown",
   "id": "9218e093",
   "metadata": {},
   "source": [
    "### Label Encoding"
   ]
  },
  {
   "cell_type": "code",
   "execution_count": 18,
   "id": "fff432b0",
   "metadata": {},
   "outputs": [],
   "source": [
    "education_dict_label = {\n",
    "    \"None\": 0,\n",
    "    \"Unknown\":0,\n",
    "    \"Junior Secondary\": 1,\n",
    "    \"Senior Secondary\": 2,\n",
    "    \"Post Secondary\": 3,\n",
    "    \"Quranic\":2,\n",
    "}\n",
    "\n",
    "last_clinic_stage_dict_label = {\n",
    "    \"Stage I\":0,\n",
    "    \"Stage II\":1,\n",
    "    \"Stage III\":2,\n",
    "    \"Stage IV\":3,   \n",
    "}\n",
    "\n",
    "occupation_dict_label = {\n",
    "    \"Unemployed\":0,\n",
    "    \"Unknown\":0,\n",
    "    \"Student\":1,\n",
    "    \"Employed\":2,\n",
    "    \"Retired\":3,\n",
    "}\n",
    "\n",
    "gender_dict_label = {\n",
    "    \"Male\":1,\n",
    "    \"Female\":0,\n",
    "}\n",
    "\n",
    "recency_test_label = {\n",
    "    \"Unspecified\":0,\n",
    "    \"No Documented Test Result\":0,\n",
    "    \"Long Term Infection\":2,\n",
    "    \"Recent Infection\":1,\n",
    "}"
   ]
  },
  {
   "cell_type": "code",
   "execution_count": 19,
   "id": "2cb5a088",
   "metadata": {},
   "outputs": [],
   "source": [
    "# Mapping of encoding\n",
    "df['EDUCATION'] = df['EDUCATION'].map(education_dict_label)\n",
    "df['LAST_CLINIC_STAGE'] = df['LAST_CLINIC_STAGE'].map(last_clinic_stage_dict_label)\n",
    "df['OCCUPATION'] = df['OCCUPATION'].map(occupation_dict_label)\n",
    "df['EF_IS_MALE'] = df['GENDER'].map(gender_dict_label)\n",
    "df['RECENCY_TESTING'] = df['RECENCY_TESTING'].map(recency_test_label)"
   ]
  },
  {
   "cell_type": "code",
   "execution_count": 20,
   "id": "b0627b14",
   "metadata": {},
   "outputs": [],
   "source": [
    "# Otherise columns with high cardinality\n",
    "# lga_list = df['L.G.A'].to_list()\n",
    "# state_list = df['STATE'].to_list()\n",
    "\n",
    "state_vals = df['EF_STATE_RESIDENCE'].value_counts(normalize=True).head(4).index.tolist()\n",
    "df.loc[~df[\"EF_STATE_RESIDENCE\"].isin(state_vals), \"EF_STATE_RESIDENCE\"] = \"Other\"\n",
    "\n",
    "# Otherise based on value in LGA and State\n",
    "# df.loc[~df[\"L.G.A\"].isin(set(lga_list)), \"EF_LGA_RESIDENCE\"] = \"Other\"\n",
    "# df.loc[~df[\"STATE\"].isin(set(state_list)), \"EF_STATE_RESIDENCE\"] = \"Other\""
   ]
  },
  {
   "cell_type": "markdown",
   "id": "2936aea7",
   "metadata": {},
   "source": [
    "### One Hot Encoding"
   ]
  },
  {
   "cell_type": "code",
   "execution_count": 21,
   "id": "ef60db09",
   "metadata": {},
   "outputs": [],
   "source": [
    "# df = one_hot_encode_col(df,'STATE','EF_STATE')\n",
    "# df = one_hot_encode_col(df,'L.G.A','EF_LGA')\n",
    "df = one_hot_encode_col(df,'ENROLLMENT_SETTING','EF_ENROLLMENT_SETTING')\n",
    "df = one_hot_encode_col(df,'STATUS_REGISTRATION','EF_STATUS_REGISTRATION')\n",
    "df = one_hot_encode_col(df,'MARITAL_STATUS','EF_MARITAL_STATUS')\n",
    "df = one_hot_encode_col(df,'ENTRY_POINT','EF_ENTRY_POINT')\n",
    "df = one_hot_encode_col(df,'EF_STATE_RESIDENCE','EF_STATE_RESIDENCE')\n",
    "#df = one_hot_encode_col(df,'EF_LGA_RESIDENCE','EF_LGA_RESIDENCE')\n",
    "# df = one_hot_encode_col(df,'Regimen','EF_REGIMEN')\n",
    "# df = one_hot_encode_col(df,'Regimen Line','EF_REGIMEN_LINE')\n",
    "# #df = one_hot_encode_col(df,'Facility Name','EF_FACILITY_NAME')"
   ]
  },
  {
   "cell_type": "markdown",
   "id": "2630a4a6",
   "metadata": {},
   "source": [
    "# Export Information"
   ]
  },
  {
   "cell_type": "code",
   "execution_count": 22,
   "id": "18018120",
   "metadata": {},
   "outputs": [],
   "source": [
    "# Replace spaces in columns names\n",
    "df.columns = df.columns.str.replace(' ','_')\n",
    "\n",
    "# Standardizing columns\n",
    "df.columns = map(lambda x: str(x).upper(), df.columns)"
   ]
  },
  {
   "cell_type": "code",
   "execution_count": 23,
   "id": "d0719940",
   "metadata": {},
   "outputs": [],
   "source": [
    "drop_cols = [\n",
    "    \"PARTNERINFORMATION_ID\",\n",
    "    \"SOURCE_REFERRAL\",\n",
    "    \"TIME_HIV_DIAGNOSIS\",\n",
    "    \"AGREED_DATE\",\n",
    "    \"CAUSE_DEATH\",\n",
    "    \"AGE_UNIT\",\n",
    "    \"AGE\",\n",
    "    \"GENDER\",\n",
    "    \"DATE_ENROLLED_PMTCT\",\n",
    "    \"RECENCY_CONSENT\",\n",
    "    \"DATE_LAST_VIRAL_LOAD\",\n",
    "    \"VIRAL_LOAD_TYPE\",\n",
    "    \"DATE_LAST_CD4\",\n",
    "    \"DATE_TRACKED\",\n",
    "    \"WARD\",\n",
    "    \"LAST_REFILL_SETTING\",\n",
    "    \"UNIQUE_ID\",\n",
    "    \"HOSPITAL_NUM\",\n",
    "    \"OUTCOME\",\n",
    "    \"VIRAL_LOAD_DUE_DATE\",\n",
    "    \"FACILITY_NAME\",\n",
    "    \"STATE\",\n",
    "    \"L.G.A\",\n",
    "    \"TB_STATUS\",\n",
    "    \"STATUS_REGISTRATION\",\n",
    "    \"MARITAL_STATUS\",\n",
    "    \"ENROLLMENT_SETTING\",\n",
    "    \"ENTRY_POINT\",\n",
    "    \"EF_STATE_RESIDENCE\",\n",
    "]\n",
    "df.drop(columns=drop_cols, inplace=True)"
   ]
  },
  {
   "cell_type": "code",
   "execution_count": 24,
   "id": "e6490d1a",
   "metadata": {},
   "outputs": [],
   "source": [
    "df = df.add_prefix('P_')"
   ]
  },
  {
   "cell_type": "code",
   "execution_count": 30,
   "id": "b4292fa7",
   "metadata": {},
   "outputs": [],
   "source": [
    "df.to_csv(input_root+'feature_patient.csv',index=False,header=True)"
   ]
  }
 ],
 "metadata": {
  "kernelspec": {
   "display_name": "Python 3",
   "language": "python",
   "name": "python3"
  },
  "language_info": {
   "codemirror_mode": {
    "name": "ipython",
    "version": 3
   },
   "file_extension": ".py",
   "mimetype": "text/x-python",
   "name": "python",
   "nbconvert_exporter": "python",
   "pygments_lexer": "ipython3",
   "version": "3.8.10"
  },
  "toc": {
   "base_numbering": 1,
   "nav_menu": {},
   "number_sections": true,
   "sideBar": true,
   "skip_h1_title": false,
   "title_cell": "Table of Contents",
   "title_sidebar": "Contents",
   "toc_cell": false,
   "toc_position": {},
   "toc_section_display": true,
   "toc_window_display": false
  }
 },
 "nbformat": 4,
 "nbformat_minor": 5
}
